{
 "cells": [
  {
   "cell_type": "code",
   "execution_count": 1,
   "metadata": {},
   "outputs": [],
   "source": [
    "# Objective:\n",
    "# Find the square root without any tranditional python libraries\n",
    "#"
   ]
  },
  {
   "cell_type": "code",
   "execution_count": 2,
   "metadata": {},
   "outputs": [],
   "source": [
    "import matplotlib.pyplot as plt\n",
    "import seaborn as sns"
   ]
  },
  {
   "cell_type": "code",
   "execution_count": 3,
   "metadata": {},
   "outputs": [],
   "source": [
    "inp = 144\n",
    "\n",
    "x_log = {}\n",
    "iter_range = range(1,1000)"
   ]
  },
  {
   "cell_type": "code",
   "execution_count": 4,
   "metadata": {},
   "outputs": [
    {
     "name": "stdout",
     "output_type": "stream",
     "text": [
      "Final Pred: 12.000000000000004\n"
     ]
    }
   ],
   "source": [
    " \n",
    "\"\"\"\n",
    "Approach 1:\n",
    "\n",
    "Only MAE is used here. with a custom function instead of any derivative\n",
    "\"\"\"\n",
    "x_log['approach_1'] = {}\n",
    "\n",
    "\n",
    "##$$ ALPHA = 0.1 $$##\n",
    "x = inp\n",
    "y = inp\n",
    "\n",
    "x_log_1 = []\n",
    "alpha = 0.1\n",
    "for i in iter_range:\n",
    "    y_hat = x * x\n",
    "    error = y_hat - y\n",
    "    x = x - (alpha * (error/x))\n",
    "    x_log_1.append(x)\n",
    "x_log['approach_1'][1] = x_log_1\n",
    "print(\"Final Pred:\", x)"
   ]
  },
  {
   "cell_type": "code",
   "execution_count": 5,
   "metadata": {},
   "outputs": [
    {
     "name": "stdout",
     "output_type": "stream",
     "text": [
      "Final Pred: 12.000001511138615\n"
     ]
    }
   ],
   "source": [
    "##$$ ALPHA = 0.01 $$##\n",
    "x = inp\n",
    "y = inp\n",
    "\n",
    "x_log_2 = []\n",
    "alpha = 0.01\n",
    "for i in iter_range:\n",
    "    y_hat = x * x\n",
    "    error = y_hat - y\n",
    "    x = x - (alpha * (error/x))\n",
    "    x_log_2.append(x)\n",
    "x_log['approach_1'][2] = x_log_2\n",
    "print(\"Final Pred:\", x)"
   ]
  },
  {
   "cell_type": "code",
   "execution_count": 6,
   "metadata": {},
   "outputs": [
    {
     "name": "stdout",
     "output_type": "stream",
     "text": [
      "Final Pred: 54.16228194536788\n"
     ]
    }
   ],
   "source": [
    "##$$ ALPHA = 0.001 $$##\n",
    "x = inp\n",
    "y = inp\n",
    "\n",
    "x_log_3 = []\n",
    "alpha = 0.001\n",
    "for i in iter_range:\n",
    "    y_hat = x * x\n",
    "    error = y_hat - y\n",
    "    x = x - (alpha * (error/x))\n",
    "    x_log_3.append(x)\n",
    "x_log['approach_1'][3] = x_log_3\n",
    "print(\"Final Pred:\", x)"
   ]
  },
  {
   "cell_type": "code",
   "execution_count": 7,
   "metadata": {},
   "outputs": [],
   "source": [
    "\"\"\"\n",
    "Approach 2:\n",
    "\n",
    "Loss function: MAE\n",
    "xi = xi - alpha*(cost derivative)\n",
    "i.e. xi - alpha * 2x\n",
    "\"\"\"\n",
    "x_log['approach_2'] = {}\n"
   ]
  },
  {
   "cell_type": "code",
   "execution_count": 8,
   "metadata": {},
   "outputs": [
    {
     "name": "stdout",
     "output_type": "stream",
     "text": [
      "Final Pred: 2.2144174598900147e-95\n"
     ]
    }
   ],
   "source": [
    "##$$ ALPHA = 0.1 $$##\n",
    "x = inp\n",
    "y = inp\n",
    "\n",
    "x_log_temp = []\n",
    "alpha = 0.1\n",
    "for i in iter_range:\n",
    "    y_hat = x * x\n",
    "    error = y_hat - y\n",
    "    x = x - (alpha * (2*x))\n",
    "    x_log_temp.append(x)\n",
    "x_log['approach_2'][1] = x_log_temp\n",
    "print(\"Final Pred:\", x)"
   ]
  },
  {
   "cell_type": "code",
   "execution_count": 9,
   "metadata": {},
   "outputs": [
    {
     "name": "stdout",
     "output_type": "stream",
     "text": [
      "Final Pred: 2.47293162692957e-07\n"
     ]
    }
   ],
   "source": [
    "##$$ ALPHA = 0.01 $$##\n",
    "x = inp\n",
    "y = inp\n",
    "\n",
    "x_log_temp = []\n",
    "alpha = 0.01\n",
    "for i in iter_range:\n",
    "    y_hat = x * x\n",
    "    error = y_hat - y\n",
    "    x = x - (alpha * (2*x))\n",
    "    x_log_temp.append(x)\n",
    "x_log['approach_2'][2] = x_log_temp\n",
    "print(\"Final Pred:\", x)"
   ]
  },
  {
   "cell_type": "code",
   "execution_count": 10,
   "metadata": {},
   "outputs": [
    {
     "name": "stdout",
     "output_type": "stream",
     "text": [
      "Final Pred: 19.488267767858183\n"
     ]
    }
   ],
   "source": [
    "##$$ ALPHA = 0.001 $$##\n",
    "x = inp\n",
    "y = inp\n",
    "\n",
    "x_log_temp = []\n",
    "alpha = 0.001\n",
    "for i in iter_range:\n",
    "    y_hat = x * x\n",
    "    error = y_hat - y\n",
    "    x = x - (alpha * (2*x))\n",
    "    x_log_temp.append(x)\n",
    "x_log['approach_2'][3] = x_log_temp\n",
    "print(\"Final Pred:\", x)"
   ]
  },
  {
   "cell_type": "code",
   "execution_count": 12,
   "metadata": {},
   "outputs": [
    {
     "ename": "OverflowError",
     "evalue": "(34, 'Result too large')",
     "output_type": "error",
     "traceback": [
      "\u001b[0;31m---------------------------------------------------------------------------\u001b[0m",
      "\u001b[0;31mOverflowError\u001b[0m                             Traceback (most recent call last)",
      "\u001b[0;32m<ipython-input-12-20b8b0901a31>\u001b[0m in \u001b[0;36m<module>\u001b[0;34m()\u001b[0m\n\u001b[1;32m     17\u001b[0m     \u001b[0my_hat\u001b[0m \u001b[0;34m=\u001b[0m \u001b[0mx\u001b[0m \u001b[0;34m*\u001b[0m \u001b[0mx\u001b[0m\u001b[0;34m\u001b[0m\u001b[0m\n\u001b[1;32m     18\u001b[0m     \u001b[0merror\u001b[0m \u001b[0;34m=\u001b[0m \u001b[0my_hat\u001b[0m \u001b[0;34m-\u001b[0m \u001b[0my\u001b[0m\u001b[0;34m\u001b[0m\u001b[0m\n\u001b[0;32m---> 19\u001b[0;31m     \u001b[0mx\u001b[0m \u001b[0;34m=\u001b[0m \u001b[0mx\u001b[0m \u001b[0;34m-\u001b[0m \u001b[0;34m(\u001b[0m\u001b[0malpha\u001b[0m \u001b[0;34m*\u001b[0m \u001b[0;34m(\u001b[0m\u001b[0;34m(\u001b[0m\u001b[0;36m4\u001b[0m\u001b[0;34m*\u001b[0m\u001b[0mx\u001b[0m\u001b[0;34m)\u001b[0m\u001b[0;34m**\u001b[0m\u001b[0;36m3\u001b[0m\u001b[0;34m)\u001b[0m\u001b[0;34m)\u001b[0m\u001b[0;34m\u001b[0m\u001b[0m\n\u001b[0m\u001b[1;32m     20\u001b[0m     \u001b[0mx_log_temp\u001b[0m\u001b[0;34m.\u001b[0m\u001b[0mappend\u001b[0m\u001b[0;34m(\u001b[0m\u001b[0mx\u001b[0m\u001b[0;34m)\u001b[0m\u001b[0;34m\u001b[0m\u001b[0m\n\u001b[1;32m     21\u001b[0m \u001b[0mx_log\u001b[0m\u001b[0;34m[\u001b[0m\u001b[0;34m'approach_3'\u001b[0m\u001b[0;34m]\u001b[0m\u001b[0;34m[\u001b[0m\u001b[0;36m1\u001b[0m\u001b[0;34m]\u001b[0m \u001b[0;34m=\u001b[0m \u001b[0mx_log_temp\u001b[0m\u001b[0;34m\u001b[0m\u001b[0m\n",
      "\u001b[0;31mOverflowError\u001b[0m: (34, 'Result too large')"
     ]
    }
   ],
   "source": [
    "\"\"\"\n",
    "Approach 3:\n",
    "\n",
    "Loss function: MSE\n",
    "xi = xi - alpha*(cost derivative)\n",
    "i.e. xi - alpha * 4x^3\n",
    "\"\"\"\n",
    "x_log['approach_3'] = {}\n",
    "\n",
    "##$$ ALPHA = 0.1 $$##\n",
    "x = inp\n",
    "y = inp\n",
    "\n",
    "x_log_temp = []\n",
    "alpha = 0.1\n",
    "for i in iter_range:\n",
    "    y_hat = x * x\n",
    "    error = y_hat - y\n",
    "    x = x - (alpha * ((4*x)**3))\n",
    "    x_log_temp.append(x)\n",
    "x_log['approach_3'][1] = x_log_temp"
   ]
  },
  {
   "cell_type": "code",
   "execution_count": 13,
   "metadata": {},
   "outputs": [
    {
     "ename": "OverflowError",
     "evalue": "(34, 'Result too large')",
     "output_type": "error",
     "traceback": [
      "\u001b[0;31m---------------------------------------------------------------------------\u001b[0m",
      "\u001b[0;31mOverflowError\u001b[0m                             Traceback (most recent call last)",
      "\u001b[0;32m<ipython-input-13-ca2a922ffd87>\u001b[0m in \u001b[0;36m<module>\u001b[0;34m()\u001b[0m\n\u001b[1;32m      8\u001b[0m     \u001b[0my_hat\u001b[0m \u001b[0;34m=\u001b[0m \u001b[0mx\u001b[0m \u001b[0;34m*\u001b[0m \u001b[0mx\u001b[0m\u001b[0;34m\u001b[0m\u001b[0m\n\u001b[1;32m      9\u001b[0m     \u001b[0merror\u001b[0m \u001b[0;34m=\u001b[0m \u001b[0my_hat\u001b[0m \u001b[0;34m-\u001b[0m \u001b[0my\u001b[0m\u001b[0;34m\u001b[0m\u001b[0m\n\u001b[0;32m---> 10\u001b[0;31m     \u001b[0mx\u001b[0m \u001b[0;34m=\u001b[0m \u001b[0mx\u001b[0m \u001b[0;34m-\u001b[0m \u001b[0;34m(\u001b[0m\u001b[0malpha\u001b[0m \u001b[0;34m*\u001b[0m \u001b[0;34m(\u001b[0m\u001b[0;34m(\u001b[0m\u001b[0;36m4\u001b[0m\u001b[0;34m*\u001b[0m\u001b[0mx\u001b[0m\u001b[0;34m)\u001b[0m\u001b[0;34m**\u001b[0m\u001b[0;36m3\u001b[0m\u001b[0;34m)\u001b[0m\u001b[0;34m)\u001b[0m\u001b[0;34m\u001b[0m\u001b[0m\n\u001b[0m\u001b[1;32m     11\u001b[0m     \u001b[0mx_log_temp\u001b[0m\u001b[0;34m.\u001b[0m\u001b[0mappend\u001b[0m\u001b[0;34m(\u001b[0m\u001b[0mx\u001b[0m\u001b[0;34m)\u001b[0m\u001b[0;34m\u001b[0m\u001b[0m\n\u001b[1;32m     12\u001b[0m \u001b[0mx_log\u001b[0m\u001b[0;34m[\u001b[0m\u001b[0;34m'approach_3'\u001b[0m\u001b[0;34m]\u001b[0m\u001b[0;34m[\u001b[0m\u001b[0;36m2\u001b[0m\u001b[0;34m]\u001b[0m \u001b[0;34m=\u001b[0m \u001b[0mx_log_temp\u001b[0m\u001b[0;34m\u001b[0m\u001b[0m\n",
      "\u001b[0;31mOverflowError\u001b[0m: (34, 'Result too large')"
     ]
    }
   ],
   "source": [
    "##$$ ALPHA = 0.01 $$##\n",
    "x = inp\n",
    "y = inp\n",
    "\n",
    "x_log_temp = []\n",
    "alpha = 0.01\n",
    "for i in iter_range:\n",
    "    y_hat = x * x\n",
    "    error = y_hat - y\n",
    "    x = x - (alpha * ((4*x)**3))\n",
    "    x_log_temp.append(x)\n",
    "x_log['approach_3'][2] = x_log_temp"
   ]
  },
  {
   "cell_type": "code",
   "execution_count": 14,
   "metadata": {},
   "outputs": [
    {
     "ename": "OverflowError",
     "evalue": "(34, 'Result too large')",
     "output_type": "error",
     "traceback": [
      "\u001b[0;31m---------------------------------------------------------------------------\u001b[0m",
      "\u001b[0;31mOverflowError\u001b[0m                             Traceback (most recent call last)",
      "\u001b[0;32m<ipython-input-14-410f04ed1018>\u001b[0m in \u001b[0;36m<module>\u001b[0;34m()\u001b[0m\n\u001b[1;32m      8\u001b[0m     \u001b[0my_hat\u001b[0m \u001b[0;34m=\u001b[0m \u001b[0mx\u001b[0m \u001b[0;34m*\u001b[0m \u001b[0mx\u001b[0m\u001b[0;34m\u001b[0m\u001b[0m\n\u001b[1;32m      9\u001b[0m     \u001b[0merror\u001b[0m \u001b[0;34m=\u001b[0m \u001b[0my_hat\u001b[0m \u001b[0;34m-\u001b[0m \u001b[0my\u001b[0m\u001b[0;34m\u001b[0m\u001b[0m\n\u001b[0;32m---> 10\u001b[0;31m     \u001b[0mx\u001b[0m \u001b[0;34m=\u001b[0m \u001b[0mx\u001b[0m \u001b[0;34m-\u001b[0m \u001b[0;34m(\u001b[0m\u001b[0malpha\u001b[0m \u001b[0;34m*\u001b[0m \u001b[0;34m(\u001b[0m\u001b[0;34m(\u001b[0m\u001b[0;36m4\u001b[0m\u001b[0;34m*\u001b[0m\u001b[0mx\u001b[0m\u001b[0;34m)\u001b[0m\u001b[0;34m**\u001b[0m\u001b[0;36m3\u001b[0m\u001b[0;34m)\u001b[0m\u001b[0;34m)\u001b[0m\u001b[0;34m\u001b[0m\u001b[0m\n\u001b[0m\u001b[1;32m     11\u001b[0m     \u001b[0mx_log_temp\u001b[0m\u001b[0;34m.\u001b[0m\u001b[0mappend\u001b[0m\u001b[0;34m(\u001b[0m\u001b[0mx\u001b[0m\u001b[0;34m)\u001b[0m\u001b[0;34m\u001b[0m\u001b[0m\n\u001b[1;32m     12\u001b[0m \u001b[0mx_log\u001b[0m\u001b[0;34m[\u001b[0m\u001b[0;34m'approach_3'\u001b[0m\u001b[0;34m]\u001b[0m\u001b[0;34m[\u001b[0m\u001b[0;36m3\u001b[0m\u001b[0;34m]\u001b[0m \u001b[0;34m=\u001b[0m \u001b[0mx_log_temp\u001b[0m\u001b[0;34m\u001b[0m\u001b[0m\n",
      "\u001b[0;31mOverflowError\u001b[0m: (34, 'Result too large')"
     ]
    }
   ],
   "source": [
    "##$$ ALPHA = 0.001 $$##\n",
    "x = inp\n",
    "y = inp\n",
    "\n",
    "x_log_temp = []\n",
    "alpha = 0.001\n",
    "for i in iter_range:\n",
    "    y_hat = x * x\n",
    "    error = y_hat - y\n",
    "    x = x - (alpha * ((4*x)**3))\n",
    "    x_log_temp.append(x)\n",
    "x_log['approach_3'][3] = x_log_temp"
   ]
  },
  {
   "cell_type": "code",
   "execution_count": 15,
   "metadata": {},
   "outputs": [],
   "source": [
    "%matplotlib inline"
   ]
  },
  {
   "cell_type": "code",
   "execution_count": 17,
   "metadata": {},
   "outputs": [
    {
     "name": "stderr",
     "output_type": "stream",
     "text": [
      "/Users/aakashp/anaconda3/lib/python3.6/site-packages/matplotlib/figure.py:445: UserWarning: Matplotlib is currently using module://ipykernel.pylab.backend_inline, which is a non-GUI backend, so cannot show the figure.\n",
      "  % get_backend())\n"
     ]
    },
    {
     "data": {
      "image/png": "[encoded data removed]",
      "text/plain": [
       "<Figure size 432x288 with 1 Axes>"
      ]
     },
     "metadata": {},
     "output_type": "display_data"
    }
   ],
   "source": [
    "fig, ax = plt.subplots()\n",
    "for approach, approach_dict in x_log.items():\n",
    "    for id_, val_ls in approach_dict.items():\n",
    "        ax = sns.lineplot(iter_range, val_ls, legend='brief', label=approach + \" id:\"+ str(id_))#)\n",
    "\n",
    "fig.show()"
   ]
  }
 ],
 "metadata": {
  "kernelspec": {
   "display_name": "Python 3",
   "language": "python",
   "name": "python3"
  },
  "language_info": {
   "codemirror_mode": {
    "name": "ipython",
    "version": 3
   },
   "file_extension": ".py",
   "mimetype": "text/x-python",
   "name": "python",
   "nbconvert_exporter": "python",
   "pygments_lexer": "ipython3",
   "version": "3.6.4"
  }
 },
 "nbformat": 4,
 "nbformat_minor": 2
}
